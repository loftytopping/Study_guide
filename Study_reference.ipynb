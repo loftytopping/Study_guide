{
 "cells": [
  {
   "cell_type": "markdown",
   "metadata": {},
   "source": [
    "# Python study reference\n",
    "\n",
    "Here we provide examples of some of the key aspects of Python you come across in this course. These are:\n",
    "\n",
    "    \n",
    " - 1) [Variables and types](#Part1)\n",
    "      * [Initialise new variables and print to screen](#sub1)\n",
    " - 2) [Common arithmetic operators](#Part2)\n",
    "      * [Implement equations as combinations of arithmetic operators](#sub2)\n",
    " - 3) [Arrays and lists](#Part3)\n",
    "      * [Add more entries to a list and change an existing entry](#sub3)\n",
    " - 4) [Loops and conditional statements](#Part4)\n",
    "      * [For loops](#sub4)\n",
    "      * [Nested loops: Working with more than 1 dimension](#sub5)\n",
    "      * [Conditional statements: The IF, ELIF and ELSE statements](#sub6)\n",
    "      * [The AND/& statement](#sub7)\n",
    " - 5) [Numpy arrays and operations](#Part5)\n",
    "      * [Creating Numpy arrays and accessing/changing values](#sub8)\n",
    "      * [Select a subset from an array](#sub9)\n",
    "      * [Numpy operations on entire arrays](#sub10)\n",
    " - 6) [Creating our own functions](#Part6)\n",
    "    \n",
    "    \n"
   ]
  },
  {
   "cell_type": "markdown",
   "metadata": {},
   "source": [
    "## 1) Variables and types <a name=\"Part1\">\n",
    "\n",
    "### Initialise new variables and print to screen. <a name=\"sub1\">\n",
    "    \n",
    "In this course we use integers and floating point values.\n",
    "Integers have unlimited precision in that you could use an integer with a growing number of digits that would be limited by the memory on your machine. Floating point numbers are usually implemented using double precision. These have a decimal point. \n",
    "\n",
    "| Type | Format | Description | \n",
    "| --- | --- | --- |\n",
    "| int [Integer] |  a = 10 | Signed Integer | \n",
    "| float [Floating point] | a = 45.67 | Floating point real values | \n",
    "\n",
    "In the following code block we assign values to variables we have defined ourselves. We use both integer and floating point values and we print them to the screen. We can use a positive or negative assignment. Notice also the use of lower case 'e' and upper case 'E', indicating the power of 10 (2.5e2 = $2.5 x 10^{2} = $250).\n",
    "We use the <code> type </code> function to confirm the type of the variable and print to the screen."
   ]
  },
  {
   "cell_type": "code",
   "execution_count": 1,
   "metadata": {},
   "outputs": [
    {
     "name": "stdout",
     "output_type": "stream",
     "text": [
      "The data type of x is <class 'float'>\n",
      "The data type of temperature is <class 'float'>\n",
      "The data type of y is <class 'int'>\n",
      "The data type of test_variable is <class 'int'>\n",
      "The data type of f is <class 'float'>\n",
      "The data type of speed is <class 'float'>\n"
     ]
    }
   ],
   "source": [
    "x = 2.3 # float\n",
    "temperature = -23.567 # float\n",
    "y = 4 # integer\n",
    "test_variable = 345600\n",
    "f = 1e-003\n",
    "speed = 10E4\n",
    "\n",
    "print(\"The data type of x is\",type(x))\n",
    "print(\"The data type of temperature is\",type(temperature))\n",
    "print(\"The data type of y is\",type(y))\n",
    "print(\"The data type of test_variable is\",type(test_variable))\n",
    "print(\"The data type of f is\",type(f))\n",
    "print(\"The data type of speed is\",type(speed))"
   ]
  },
  {
   "cell_type": "markdown",
   "metadata": {},
   "source": [
    "## 2) Common arithmetic operators <a name=\"Part2\">\n",
    "\n",
    "### Implement equations as combinations of arithmetic operators. <a name=\"sub2\">\n",
    "    \n",
    "In most applications, and in any language, we are going to use basic mathematical operations such as addition, multiplication and division. In the following table you can see a column of operations using Python syntax and the equivalent result. \n",
    "\n",
    "| Operation | Result |\n",
    "| --- | --- |\n",
    "| x + y |  sum of x and y |\n",
    "| x - y |  difference of x and y |\n",
    "| x * y |  product of x and y |\n",
    "| x / y |  quotient of x and y |\n",
    "| abs(x) |  absolute value or magnitude of x |\n",
    "| int(x) |  x converted to integer |\n",
    "| float(x) |  x converted to floating point |\n",
    "| pow(x, y) | x to the power y |\n",
    "| x ** y | x to the power y |\n",
    "\n",
    "\n",
    "In the following code we demonstrate how to perform basic arithmetic on either defined variables or pure numbers using appropriate Python syntax, and add comments using the # symbol."
   ]
  },
  {
   "cell_type": "code",
   "execution_count": 2,
   "metadata": {},
   "outputs": [
    {
     "name": "stdout",
     "output_type": "stream",
     "text": [
      "z =  9.9\n",
      "var3 =  1.3000000000000003\n",
      "end_temperature =  315.64\n",
      "price_per_kg =  5.217391304347826\n",
      "result =  42.43998894277659\n"
     ]
    }
   ],
   "source": [
    "# Addition examples [+]\n",
    "# 1) Define variables and add\n",
    "x = 2.4\n",
    "y = 7.5\n",
    "z = x + y\n",
    "print(\"z = \", z)\n",
    "\n",
    "# Subtraction examples [-]\n",
    "var1 = -3.4\n",
    "var2 = 4.7\n",
    "var3 = var1 + var2\n",
    "print(\"var3 = \", var3)\n",
    "\n",
    "# Multiplication examples [*]\n",
    "starting_temperature  = 273.14 # Kelvin\n",
    "d_temp_d_time = 3.4 # Kelvin per second\n",
    "duration = 12.5 # seconds\n",
    "end_temperature = starting_temperature + d_temp_d_time*duration\n",
    "print(\"end_temperature = \", end_temperature)\n",
    "\n",
    "# Division examples \n",
    "Price = 12 # £ sterling\n",
    "weight = 2.3 # kg\n",
    "price_per_kg = Price / weight # £ per kg\n",
    "print(\"price_per_kg = \", price_per_kg)\n",
    "\n",
    "# Exponentiation examples\n",
    "base = 2.3\n",
    "power = 4.5\n",
    "result = base ** power\n",
    "print(\"result = \", result)"
   ]
  },
  {
   "cell_type": "markdown",
   "metadata": {},
   "source": [
    "## 3) Arrays and lists <a name=\"Part3\">\n",
    "\n",
    "### Add more entries to a list and change an existing entry <a name=\"sub3\">\n",
    "    \n",
    "In most programming applications we want to store and update values in an array, be it 1D, 2D, 3D or even more. Python comes with 3 ways to store this information known as: \n",
    "\n",
    " - lists\n",
    " - tuples\n",
    " - dictionaries.\n",
    "  \n",
    "For applications focused on numerical computations, the module known as Numpy is used for manipulating and creating/modifying numerical values in arrays. You can find more information on this in section 5 of this PDF. The reason is that Numpy has been optimised for use in this way and can be significantly faster than 'non-Numpy' approaches we will use in this class. We will be using the Numpy package throughout this course, but we will also come across a 'list'. \n",
    "\n",
    "So, why are there multiple methods?\n",
    "\n",
    "Lists and tuples are perhaps the most common used data structures in Python. They have a number of similarities:\n",
    "\n",
    " - They both store a collection of items sequentially\n",
    " - They can store items of any data type. So this include numeric and non-numeric.\n",
    " - Any item is accessible via its index. We will see this below.\n",
    "   \n",
    "<div class=\"alert alert-block alert-danger\">\n",
    "<b>Indexing </b> Please note, Python indexes start at 0\n",
    "</div>\n",
    " \n",
    "In the following code block we define a number of lists and then we print to the screen the first 3 and 9th value respectively. Notice the use of the the square brackets <code>[]</code>"
   ]
  },
  {
   "cell_type": "code",
   "execution_count": 3,
   "metadata": {},
   "outputs": [
    {
     "name": "stdout",
     "output_type": "stream",
     "text": [
      "first entry is SUVA\n",
      "second entry is HELSINKI\n",
      "third entry is PARIS\n",
      "ninth entry is BRATISLAVA\n"
     ]
    }
   ],
   "source": [
    "list_capitals=['SUVA','HELSINKI','PARIS','ATHENS','SAINT GEORGE','GUATEMALA CITY','REYKJAVIK','BAGHDAD','BRATISLAVA','TOKYO']\n",
    "\n",
    "print(\"first entry is\",list_capitals[0])\n",
    "print(\"second entry is\",list_capitals[1])\n",
    "print(\"third entry is\",list_capitals[2])\n",
    "print(\"ninth entry is\",list_capitals[8])"
   ]
  },
  {
   "cell_type": "markdown",
   "metadata": {},
   "source": [
    "Likewise, in the following code block we define a list of numeric values, append an extra value and then modify the 2nd entry. Note how we are mixing numeric types. When we use Numpy arrays, we do not do this."
   ]
  },
  {
   "cell_type": "code",
   "execution_count": 4,
   "metadata": {},
   "outputs": [
    {
     "name": "stdout",
     "output_type": "stream",
     "text": [
      "Modified list is  [3, 20.0, 6, 7, 8, 3.4, 5, 6.8, 2, 123, 245098.8, 2.3]\n"
     ]
    }
   ],
   "source": [
    "# Initialise a list\n",
    "example_list = [3,4,6,7,8,3.4,5,6.8,2,123,245098.8]\n",
    "# Append a new value, thus extend the list by 1\n",
    "example_list.append(2.3)\n",
    "# Modify the second entry, multiplying it by 5\n",
    "example_list[1]=example_list[1]*5.0\n",
    "# Now print the new list to screen to check the modifications we have made\n",
    "print(\"Modified list is \",example_list)"
   ]
  },
  {
   "cell_type": "markdown",
   "metadata": {},
   "source": [
    "## 4) Loops and conditional statements <a name=\"Part4\">\n",
    " \n",
    "Once we have information stored in an array, or wish to generate information iteratively, we start to use a combination of **loops** and **conditional statements**.  We often work with very large arrays and manual intervention, checking, or modifying wouldnt be feasible or just too time consuming. We might want to generate values to be stored in a very large array, based on a specific algorithm, which would be better automated. Loops allow us to do this. \n",
    "    \n",
    "### For loops <a name=\"sub4\">\n",
    "    \n",
    "Take note of the way the following loop is contructed, the syntax and the need for introducing a space within the loop. Obeying the white space rule is a fundamental requirement in Python\n",
    "\n",
    "<div class=\"alert alert-block alert-danger\">\n",
    "<b>White space rule </b> Whenever a series of commands, or command, is terminated by a colon :, the following line should be indented. Examples typically include loops and function definitions.\n",
    "</div>\n"
   ]
  },
  {
   "cell_type": "code",
   "execution_count": 5,
   "metadata": {},
   "outputs": [
    {
     "name": "stdout",
     "output_type": "stream",
     "text": [
      "value of step is  0\n",
      "value of step is  1\n",
      "value of step is  2\n",
      "value of step is  3\n",
      "value of step is  4\n",
      "value of step is  5\n",
      "value of step is  6\n"
     ]
    }
   ],
   "source": [
    "# Example loop to print entries in our list of capital cities\n",
    "for step in range(7): # I have introduced a variable called 'step'. It dosnt matter what name we use\n",
    "    # but see how the same variable, once defined by the loop, is used to access entries in our array\n",
    "    print(\"value of step is \", step)"
   ]
  },
  {
   "cell_type": "markdown",
   "metadata": {},
   "source": [
    "The loop counts through a fixed number of integer values using the <code>range</code> function. Briefly, this Python function creates a sequence of numbers that define each iteration of the loop. By default, this sequence is based on integer values but you can modify this by passing optional arguments. For now, this generates values from 0 to 6. Recall, Python indexing starts at 0. \n",
    "\n",
    "Let's try a numerical example. Assume we want to create two new lists, <code> x </code> and <code> y </code>. Both have 100 elements. The <code> x </code> array contains integer values from 1 to 100, and the <code> y </code> array is defined by the basic equation <code> y=x*3.4 </code>. Check out the code below. This uses a combination of creating a new list, defining a loop and applying a numerical operation"
   ]
  },
  {
   "cell_type": "code",
   "execution_count": 6,
   "metadata": {},
   "outputs": [
    {
     "name": "stdout",
     "output_type": "stream",
     "text": [
      "The 1st element of x is  1\n",
      "The 1st element of y is  3.4\n",
      "The 2nd element of x is  2\n",
      "The 2nd element of y is  6.8\n",
      "The 3rd element of x is  3\n",
      "The 3rd element of y is  10.2\n",
      "The 4th element of x is  4\n",
      "The 4th element of y is  13.6\n",
      "The 81st element of x is  81\n",
      "The 81st element of y is  275.4\n"
     ]
    }
   ],
   "source": [
    "# Create two empty lists. We are going to fill these in the loop\n",
    "x = []\n",
    "y = []\n",
    "\n",
    "# Create a loop that cycles through 100 values, then implement the equation defined above\n",
    "for step in range(100):\n",
    "    \n",
    "    # First lets define a value in our x array. We know x goes from 1-100 so, knowing Python\n",
    "    # indexing starts at 0, do you understand the following operation\n",
    "    x.append(step+1)\n",
    "    # So for our first iteration, step is 0 and thus we place the value '1' into x\n",
    "    \n",
    "    # We might aswell also define our y values. \n",
    "    # Take your time to understand whats going on below.\n",
    "    y.append(x[step]*3.4)\n",
    "    # We can break it down into 3 phases\n",
    "    # 1) We want to append a value to our y array using .append()\n",
    "    # 2) We want to take the associated value from the x array using our index given by the 'step' variable\n",
    "    # 3) We want to implement the function given by equation xx.\n",
    "    \n",
    "# Below the indented space above, the loop has finished. Lets print the first 4 values from both\n",
    "# our x and y values\n",
    "\n",
    "print(\"The 1st element of x is \",x[0])\n",
    "print(\"The 1st element of y is \",y[0])\n",
    "\n",
    "print(\"The 2nd element of x is \",x[1])\n",
    "print(\"The 2nd element of y is \",y[1])\n",
    "\n",
    "print(\"The 3rd element of x is \",x[2])\n",
    "print(\"The 3rd element of y is \",y[2])\n",
    "\n",
    "print(\"The 4th element of x is \",x[3])\n",
    "print(\"The 4th element of y is \",y[3])\n",
    "\n",
    "# What about the 81st element of x and y?\n",
    "print(\"The 81st element of x is \",x[80])\n",
    "print(\"The 81st element of y is \",y[80])"
   ]
  },
  {
   "cell_type": "markdown",
   "metadata": {},
   "source": [
    "### Nested loops: Working with more than 1 dimension <a name=\"sub5\">\n",
    "\n",
    "In many applications we want to work with more than one variable at a time, often in a two [or more] dimensional setting. We can combine <code> FOR </code> loops on any number of levels. For example, take the following hypothetical example:\n",
    "\n",
    "```python\n",
    "for [first iterating variable] in [outer loop]: # Outer loop\n",
    "    [do something]  # Optional\n",
    "    for [second iterating variable] in [nested loop]:   # Nested loop\n",
    "        [do something]  \n",
    "```\n",
    "\n",
    "Notice how we have our first, or 'outer' loop cycling through our first iterating variable. As we cycle through this variable, we then 'do something' as a direct consequence. However, directly following this action, we cycle through a second iterating variable as part of our 'nested loop'. In other words, we have a loop that is nested within our first, or outer. \n",
    "\n",
    "<div class=\"alert alert-block alert-danger\">\n",
    "<b>Indexing </b> Once again, notice how we have introduced a statement that ends with a colon : and thus requires the next line to be indented. \n",
    "</div>\n",
    "\n",
    "Let us run an example of cycling through a list of words. In this case we are not using the \n",
    "```python \n",
    "range() \n",
    "```\n",
    "function as we are not dealing with numeric examples or cycling through integers."
   ]
  },
  {
   "cell_type": "code",
   "execution_count": 7,
   "metadata": {},
   "outputs": [
    {
     "name": "stdout",
     "output_type": "stream",
     "text": [
      "Hello\n",
      "George\n",
      "Hello\n",
      "Frank\n",
      "Hello\n",
      "Susan\n",
      "Hello\n",
      "Sarah\n",
      "Goodbye\n",
      "George\n",
      "Goodbye\n",
      "Frank\n",
      "Goodbye\n",
      "Susan\n",
      "Goodbye\n",
      "Sarah\n"
     ]
    }
   ],
   "source": [
    "# Create two lists of words\n",
    "list1 = ['Hello','Goodbye']\n",
    "list2 = ['George','Frank','Susan','Sarah']\n",
    "\n",
    "for word1 in list1:\n",
    "    for word2 in list2:\n",
    "        print(word1)\n",
    "        print(word2)"
   ]
  },
  {
   "cell_type": "markdown",
   "metadata": {},
   "source": [
    "### Conditional statements: The IF, ELIF and ELSE statements  <a name=\"sub6\">\n",
    "\n",
    "Once we have information stored in an array, or wish to generate information iteratively, we start to use a combination of **loops** and **conditional statements**. Conditional statements allow us to develop software that can be responsive to certain conditions. \n",
    "    \n",
    "The following table lists the Python equivalent of common mathematical symbols to check numerical values.\n",
    "\n",
    "| Meaning | Math Symbol | Python Symbols |\n",
    "| --- | --- | --- |\n",
    "| Less than\t | < | < | \n",
    "| Greater than\t | > | > | \n",
    "| Less than or equal | ≤ | <= | \n",
    "| Greater than or equal | ≥ | >= | \n",
    "| Equals | = | == | \n",
    "| Not equal | ≠ | != | \n",
    "\n",
    "<div class=\"alert alert-block alert-danger\">\n",
    "<b> Warning </b> The obvious choice for equals, a single equal sign, is not used to check for equality. It is a common error to use only one equal sign when you mean to test for equality, and not make an assignment!\n",
    "</div>\n",
    "\n",
    "How do we implement checks using these symbols? This is where we use the <code> IF </code>, <code> ELIF </code> and <code> ELSE </code> statements. Let us start with an example. \n",
    "\n",
    "```python\n",
    "# Initialise two variables with integer values\n",
    "x=3\n",
    "y=5\n",
    "# Now use an IF statement to check the relative values of x and y, then act accordingly\n",
    "if x > y:\n",
    "    print(\"X is greater than Y\")\n",
    "...    \n",
    "if x < y:\n",
    "    print(\"X is less than Y\")\n",
    "...\"X is less than Y\"\n",
    "```\n",
    "\n",
    "Once again, notice how we have introduced a statement that ends with a colon : and thus requires the next line to be indented. We also use specific symbols to check whether one value is greater than [>] or less than [<] another. Within each condition check, depending on which is true, we print a message to the screen.\n",
    "\n",
    "Rather than use two <code> IF </code> statements, we could combine these checks using an <code> ELSE </code> statement as follows:\n",
    "\n",
    "```python\n",
    "# Initialise two variables with integer values\n",
    "x=3\n",
    "y=5\n",
    "# Now use an IF statement to check the relative values of x and y, then act accordingly\n",
    "if x > y:\n",
    "    print(\"X is greater than Y\")    \n",
    "else x < y:\n",
    "    print(\"X is less than Y\")\n",
    "\"X is less than Y\"\n",
    "```\n",
    "\n",
    "There are a huge number of examples we could work on here, but to begin let us build on the first exercise. In the following code we again have two variables <code> x </code> and <code> y </code>. Each has 50 elements. Let us assume that we want to implement two functions: one that is used if our <code> x </code> value is *less than or equal* to 20, the other if <code> x </code> is *greater than* 20. We can use a combination of the <code> IF </code> and <code> ELSE </code> statements.\n",
    "\n",
    " - If $X$ is *less than or equal* to 20, $ Y = \\frac{X}{12.5} $\n",
    " - Otherwise [else], $Y = X^{12.5} $\n",
    "\n",
    "Let us see this implemented as code below. "
   ]
  },
  {
   "cell_type": "code",
   "execution_count": 8,
   "metadata": {},
   "outputs": [
    {
     "name": "stdout",
     "output_type": "stream",
     "text": [
      "The 1st element of x is  1\n",
      "The 1st element of y is  0.08\n",
      "The 2nd element of x is  2\n",
      "The 2nd element of y is  0.16\n",
      "The 3rd element of x is  3\n",
      "The 3rd element of y is  0.24\n",
      "The 4th element of x is  4\n",
      "The 4th element of y is  0.32\n",
      "The 47th element of x is  47\n",
      "The 47th element of y is  7.965686757032835e+20\n",
      "The 48th element of x is  48\n",
      "The 48th element of y is  1.0363715136605023e+21\n",
      "The 49th element of x is  49\n",
      "The 49th element of y is  1.341068619663965e+21\n",
      "The 50th element of x is  50\n",
      "The 50th element of y is  1.7263349150062194e+21\n"
     ]
    }
   ],
   "source": [
    "# Initiliase an empty list for both 'x' and 'y'\n",
    "x = []\n",
    "y = []\n",
    "\n",
    "for step in range(50):\n",
    "\n",
    "    # Append a value to our x array\n",
    "    x.append(step+1)\n",
    "    \n",
    "    # Now add a conditional statement to check the value of x\n",
    "    # Notice our additional indentation\n",
    "    if x[step] <= 20:\n",
    "        # Append a value to our y array\n",
    "        y.append(x[step]/12.5)\n",
    "    else:\n",
    "        # Append a value to our y array\n",
    "        y.append(x[step]**12.5)\n",
    "    \n",
    "# Print the first and last four values from both our x and y arrays\n",
    "\n",
    "# First four\n",
    "print(\"The 1st element of x is \",x[0])\n",
    "print(\"The 1st element of y is \",y[0])\n",
    "\n",
    "print(\"The 2nd element of x is \",x[1])\n",
    "print(\"The 2nd element of y is \",y[1])\n",
    "\n",
    "print(\"The 3rd element of x is \",x[2])\n",
    "print(\"The 3rd element of y is \",y[2])\n",
    "\n",
    "print(\"The 4th element of x is \",x[3])\n",
    "print(\"The 4th element of y is \",y[3])\n",
    "\n",
    "# Last four\n",
    "print(\"The 47th element of x is \",x[46])\n",
    "print(\"The 47th element of y is \",y[46])\n",
    "\n",
    "print(\"The 48th element of x is \",x[47])\n",
    "print(\"The 48th element of y is \",y[47])\n",
    "\n",
    "print(\"The 49th element of x is \",x[48])\n",
    "print(\"The 49th element of y is \",y[48])\n",
    "\n",
    "print(\"The 50th element of x is \",x[49])\n",
    "print(\"The 50th element of y is \",y[49])\n"
   ]
  },
  {
   "cell_type": "markdown",
   "metadata": {},
   "source": [
    "### The AND/& statement  <a name=\"sub7\">\n",
    "\n",
    "Once we move beyond two mutually exclusive conditions, we can also use the <code> ELIF </code> statements. However we need to be careful that we are assigning correct boundaries on our conditions. For example, let us assume we have been tasked with creating an array <code> X </code> that contains values from 1 to 200 and we want to implement 3 equations according to the following rules:\n",
    "    \n",
    " - If X is less than 20, use: $ Y = \\frac{X}{1.56} $\n",
    " - If X is greater than or equal to 20, but less than 60 use: $ Y = X^{0.35} $ \n",
    " - If X is greater than or equal to 60 use: $ Y = 4.5*X $ \n",
    " \n",
    "Below we implement two different versions of a loop using the conditional statements introduced earlier:\n",
    "\n",
    "```python\n",
    "# Version 1\n",
    "if x[step] < 20:\n",
    "    <<action>>    \n",
    "elif x[step] >= 20:\n",
    "    <<action>>\n",
    "elif x[step] >= 60\n",
    "    <<action>>\n",
    "```\n",
    "```python\n",
    "# Version 2\n",
    "if x[step] < 20:\n",
    "    <<action>>    \n",
    "elif x[step] >= 20 and x[step] < 60:\n",
    "    <<action>>\n",
    "elif x[step] >= 60\n",
    "    <<action>>\n",
    "```\n",
    "\n",
    "The first version will work, but produce incorrect results. Why is that? If you follow the code instructions, as the Python interpreter would, once <code> x[step] </code> is greater than 20 the second conditional statement will always be true. As a result, it will never have to move to the third. In the second version however, the second conditional will no longer be true once <code> x[step] </code> is greater than or equal to 60. \n",
    "    \n",
    "Please note, you may also use the <code>&</code> symbol and you will see the two used interchangeably. \n",
    "\n",
    "Let us run both versions and plot the results so you can see the difference. In the following code I will create two <code> Y </code> arrays, one for each loop variant. A line plot will be produced where you should see a step change in values according to these rules. Do not worry about the syntax or module used to create the plot, we will visit this throughout the course."
   ]
  },
  {
   "cell_type": "code",
   "execution_count": 9,
   "metadata": {},
   "outputs": [
    {
     "data": {
      "text/plain": [
       "Text(0.5, 0, 'X')"
      ]
     },
     "execution_count": 9,
     "metadata": {},
     "output_type": "execute_result"
    },
    {
     "data": {
      "image/png": "[encoded data removed]",
      "text/plain": [
       "<Figure size 576x576 with 1 Axes>"
      ]
     },
     "metadata": {
      "needs_background": "light"
     },
     "output_type": "display_data"
    }
   ],
   "source": [
    "# Initiliase an empty list for both 'x' and 'y'\n",
    "x = []\n",
    "y_version1 = []\n",
    "y_version2 = []\n",
    "\n",
    "for step in range(200):\n",
    "\n",
    "    # Append a value to our x array\n",
    "    x.append(step+1)\n",
    "    \n",
    "    # Version 1\n",
    "    if x[step] < 20:\n",
    "        # Append a value to our y array\n",
    "        y_version1.append(x[step]/1.56)\n",
    "    elif x[step] >= 20:\n",
    "        # Append a value to our y array\n",
    "        y_version1.append(x[step]**0.35)\n",
    "    elif x[step] >= 60:\n",
    "        y_version1.append(4.5*x[step])\n",
    "        \n",
    "    # Version 2\n",
    "    if x[step] < 20:\n",
    "        # Append a value to our y array\n",
    "        y_version2.append(x[step]/1.56)\n",
    "    elif x[step] >= 20 and x[step] < 60:\n",
    "        # Append a value to our y array\n",
    "        y_version2.append(x[step]**0.35)\n",
    "    elif x[step] >= 60:\n",
    "        y_version2.append(4.5*x[step])\n",
    "    \n",
    "# Plot results\n",
    "import matplotlib.pyplot as plt # Import Matplotlib so we can plot results\n",
    "import numpy as np # The Numpy package - more soon!!\n",
    "fig = plt.figure(figsize=(8,8))\n",
    "ax = plt.axes()\n",
    "ax.plot(np.array(x),np.log(y_version1),label='Version 1')\n",
    "ax.plot(np.array(x),np.log(y_version2),label='Version 2')\n",
    "ax.set_title('Y as a function of X')\n",
    "ax.legend(loc='upper left')\n",
    "ax.set_ylabel('Y')\n",
    "ax.set_xlabel('X')\n"
   ]
  },
  {
   "cell_type": "markdown",
   "metadata": {},
   "source": [
    "## 5) Numpy arrays and operations <a name=\"Part5\">\n",
    "\n",
    "\n",
    "Numpy is a package used for numerical computations. It is used inplace of the vanilla Python approaches on account of its speed and flexible functionality. \n",
    "\n",
    "    A module is a file containing Python definitions and statements. The file name is the module name with the suffix <code> .py </code> appended. It will also likely contain functions we wish to use. For example, if we want to use a module we would use the following command:\n",
    "\n",
    "```python\n",
    "import *module name*\n",
    " ```   \n",
    "Where the module name is the same as the file \n",
    "\n",
    "> *module name.py*\n",
    "   \n",
    "and, if not in the same directory, can be found by the Python interpreter.  To import numpy, we write the following before we need to use it, typically at the very start of our code:\n",
    "    \n",
    "```python\n",
    "import numpy as np\n",
    " ```       \n",
    "    \n",
    "### Creating Numpy arrays and accessing/changing values <a name=\"sub8\">\n",
    "\n",
    "In the following code we import Numpy and use it to intialise two 1D arrays. One will contain integers, the other floating points. Please note that, unlike lists and tuples in Python, we **cannot** blend data types in one array via Numpy. This is ok for our course, however, and related to the efficiency of Numpy arrays. Please see the code snippet below and notice where we use the **'.'** extension to the imported packaged to access a function. "
   ]
  },
  {
   "cell_type": "code",
   "execution_count": 10,
   "metadata": {},
   "outputs": [],
   "source": [
    "# Lets import the numpy package and call it np\n",
    "import numpy as np\n",
    "\n",
    "# We can use an internal Numpy function to create a 1D array of fixed length. Lets say we want to create arrays\n",
    "# with 15 elements. For this Im going to use the function numpy.zeros() to create an array filled with 0's.\n",
    "# The official documentation for this function can be found here: https://docs.scipy.org/doc/numpy/reference/generated/numpy.zeros.html\n",
    "# Lets look at our example for now\n",
    "\n",
    "# Im going to use my own variable names for each array. This dosnt matter:\n",
    "Integer_array = np.zeros((15,), dtype=int)\n",
    "Float_array = np.zeros((15,), dtype=float)"
   ]
  },
  {
   "cell_type": "markdown",
   "metadata": {},
   "source": [
    "The function **numpy.zeros()** is expecting at least two bits of information\n",
    "\n",
    "> numpy.zeros((rows,columns), type of data)\n",
    "\n",
    "Where, in our case, we have specified we want 15 entries but only in one dimension as we have ignored the 'columns' variable. If we wanted to specify a 2D array, or matrix, as we will do later with 15 rows and 4 columns, we would write:\n",
    "\n",
    "> Integer_array = np.zeros((15,4), dtype=int)\n",
    "\n",
    "Notice we also specified our data type in each case. The first uses **'dtype=int'** and the second **'dtype=float'**. The function **expects** this syntax, as you might see in the official documentation. Let us now print our arrays to the screen to see what we have created. "
   ]
  },
  {
   "cell_type": "code",
   "execution_count": 11,
   "metadata": {},
   "outputs": [
    {
     "name": "stdout",
     "output_type": "stream",
     "text": [
      "The integer array looks like >  [0 0 0 0 0 0 0 0 0 0 0 0 0 0 0]\n",
      "The floating point array looks like >  [0. 0. 0. 0. 0. 0. 0. 0. 0. 0. 0. 0. 0. 0. 0.]\n"
     ]
    }
   ],
   "source": [
    "# Simply print the arrays to screen\n",
    "\n",
    "print(\"The integer array looks like > \",Integer_array)\n",
    "print(\"The floating point array looks like > \",Float_array)\n",
    "\n",
    "# You should be able to see a difference in format, thus precision."
   ]
  },
  {
   "cell_type": "markdown",
   "metadata": {},
   "source": [
    "Now we can practice creating 2D arrays but also accessing and modifying/creating values. Let us create a 2D matrix that has 3 rows and 3 columns and then put a floating point number in every cell. Note the use of the **':'** operator that allows us to straddle the start and end indices of either a set of rows of columns. \n",
    "\n",
    "Now let us read through the code in the box below."
   ]
  },
  {
   "cell_type": "code",
   "execution_count": 12,
   "metadata": {},
   "outputs": [
    {
     "name": "stdout",
     "output_type": "stream",
     "text": [
      " first entry method result =  [[298.15 298.15 298.15]\n",
      " [298.15 298.15 298.15]\n",
      " [298.15 298.15 298.15]]\n",
      " second entry method result =  [[298.15 298.15 298.15]\n",
      " [298.15 298.15 298.15]\n",
      " [298.15 298.15 298.15]]\n",
      " third entry method result =  [[298.15 298.15 298.15]\n",
      " [298.15 298.15 298.15]\n",
      " [298.15 298.15 298.15]]\n",
      " fourth entry method result =  [[298.15 298.15 298.15]\n",
      " [298.15 298.15 298.15]\n",
      " [298.15 298.15 298.15]]\n"
     ]
    }
   ],
   "source": [
    "# Create an empty matrix, of 3 rows and 3 columns, using the numpy.zeros() function\n",
    "matrix = np.zeros((3,3), dtype=float)\n",
    "\n",
    "# Now lets put the value 298.15 in each cell. There are multiple ways we could do this. I demonstrate 4 \n",
    "# below, where one method is significantly quicker than the other from a data entry perspective\n",
    "\n",
    "# 1) Enter all values manually. 1st row and 1st column, 1st row and 2nd column etc etc\n",
    "matrix[0,0] = 298.15; matrix[0,1] = 298.15; matrix[0,2] = 298.15\n",
    "matrix[1,0] = 298.15; matrix[1,1] = 298.15; matrix[1,2] = 298.15\n",
    "matrix[2,0] = 298.15; matrix[2,1] = 298.15; matrix[2,2] = 298.15\n",
    "# Lets print the matrix to the screen\n",
    "print(\" first entry method result = \", matrix)\n",
    "\n",
    "# 2) Assign the value to every column as a function of each row using the ':' operator\n",
    "matrix = np.zeros((3,3), dtype=float)\n",
    "matrix[0,0:3] = 298.15\n",
    "matrix[1,0:3] = 298.15\n",
    "matrix[2,0:3] = 298.15\n",
    "# Lets print the matrix to the screen\n",
    "print(\" second entry method result = \", matrix)\n",
    "\n",
    "# 3) Assign the value to every row as a function of each column using the ':' operator\n",
    "matrix = np.zeros((3,3), dtype=float)\n",
    "matrix[0:3,0] = 298.15\n",
    "matrix[0:3,1] = 298.15\n",
    "matrix[0:3,2] = 298.15\n",
    "# Lets print the matrix to the screen\n",
    "print(\" third entry method result = \", matrix)\n",
    "\n",
    "# 4) Assign every cell using the ':' operator in 2 dimensions\n",
    "matrix = np.zeros((3,3), dtype=float)\n",
    "matrix[0:3,0:3] = 298.15\n",
    "# Lets print the matrix to the screen\n",
    "print(\" fourth entry method result = \", matrix)\n"
   ]
  },
  {
   "cell_type": "markdown",
   "metadata": {},
   "source": [
    "### Select a subset from an array <a name=\"sub9\">\n",
    "\n",
    "In the previous example, we saw that we could straddle a first and last cell location using the <code>:</code> operator. What happens behind the scenes?\n",
    "\n",
    "Imagine we have a starting cell index given by integer variables <code>a</code> and <code>b</code>. If we issue the command <code>a:b</code>, the Python interpreter generates an array of values according to the sequence: a, a+1, a+2,.... b-1\n",
    "\n",
    "Likewise, if we defined a step size between each index value using the command <code>a:n:b</code>, the Python interpreter generates an array of values according to the sequence:a, a+n, a+2n,.... b-n\n",
    "\n",
    "So what if we want to set the value of multiple cells using the <code>:</code> operator to one value. Python searches for the location of each cell in the iteration and returns 'null' if there isn't one, but doesn't throw an error. So, lets see this through a code example. Let us create a 1D array with 5 entries and try to set the first 2 to 3.0 and print to screen\n",
    "\n",
    "e.g. \n",
    "array[0,0:2]=3.0 works\n",
    "array[0,0:20]=3.0 works\n"
   ]
  },
  {
   "cell_type": "code",
   "execution_count": 13,
   "metadata": {},
   "outputs": [
    {
     "name": "stdout",
     "output_type": "stream",
     "text": [
      "[3. 3. 0. 0. 0.]\n"
     ]
    }
   ],
   "source": [
    "array = np.zeros((5,), dtype=float)\n",
    "array[0:2]=3.0\n",
    "print(array)"
   ]
  },
  {
   "cell_type": "markdown",
   "metadata": {},
   "source": [
    "If we now try and do this for 20 cells, this will still work even though we know we do not have 20 cells!"
   ]
  },
  {
   "cell_type": "code",
   "execution_count": 14,
   "metadata": {},
   "outputs": [
    {
     "name": "stdout",
     "output_type": "stream",
     "text": [
      "[3. 3. 3. 3. 3.]\n"
     ]
    }
   ],
   "source": [
    "array = np.zeros((5,), dtype=float)\n",
    "array[0:20]=3.0\n",
    "print(array)"
   ]
  },
  {
   "cell_type": "markdown",
   "metadata": {},
   "source": [
    "If, however, we wish to map a collection of cells to another collection of cells.They have to match perfectly. We can illustrate this with another example where we have one array with 10 zero entries, and another with 5 set to 4.0. Let us try to set the last 5 entries in the first array equivalent to the second. We have to use the correct start and end cell indices"
   ]
  },
  {
   "cell_type": "code",
   "execution_count": 15,
   "metadata": {},
   "outputs": [
    {
     "name": "stdout",
     "output_type": "stream",
     "text": [
      "modified array1 is now [0. 0. 0. 0. 0. 4. 4. 4. 4. 4.]\n"
     ]
    }
   ],
   "source": [
    "# Initialise two arrays\n",
    "array1 = np.zeros((10,), dtype=float)\n",
    "array2 = np.zeros((5,), dtype=float)\n",
    "# Set all of the values in array2 to 4.0\n",
    "array2[:]=4.0\n",
    "\n",
    "# Now set the last 5 entries in the first array equivalent to the second and print to screen\n",
    "\n",
    "array1[5:11]=array2\n",
    "\n",
    "print(\"modified array1 is now\", array1)\n"
   ]
  },
  {
   "cell_type": "markdown",
   "metadata": {},
   "source": [
    "We can also combine <code>for</code> loops with Numpy arrays in an almost limitless fashion. Below is an example where we populate values in a 2D array, of 100 rows and 100 columns, according to the following function: \n",
    "\n",
    "\\begin{align*}\n",
    "z = x+y\n",
    "\\end{align*}\n"
   ]
  },
  {
   "cell_type": "code",
   "execution_count": 16,
   "metadata": {
    "scrolled": true
   },
   "outputs": [
    {
     "data": {
      "image/png": "[encoded data removed]",
      "text/plain": [
       "<Figure size 432x288 with 2 Axes>"
      ]
     },
     "metadata": {
      "needs_background": "light"
     },
     "output_type": "display_data"
    }
   ],
   "source": [
    "# Import the modules we will be using\n",
    "import numpy as np\n",
    "import matplotlib.pyplot as plt\n",
    "\n",
    "# Initialise the Numpy arrays\n",
    "x = np.zeros((100,), dtype=float)\n",
    "y = np.zeros((100,), dtype=float)\n",
    "z = np.zeros((100,100), dtype=float)\n",
    "\n",
    "# Lets populate our x and y arrays with values from 1 to 100\n",
    "for step in range(100):\n",
    "    x[step]=step+1 # why do we add 1?\n",
    "    y[step]=step+1 # why do we add 1?\n",
    "\n",
    "# Now create a nested loop that cycles through each dimension to produce our z array\n",
    "# Thus the first loop cycles through each row\n",
    "for row in range(100):\n",
    "    # The second loop cycles through each column. \n",
    "    for column in range(100):\n",
    "        z[row,column]=x[row]+y[column]\n",
    "        \n",
    "# Plot the results. Dont worry about the Matplotlib template for now.\n",
    "plt.contourf(x, y, z, 20, cmap='RdGy')\n",
    "plt.colorbar();\n",
    "plt.xlabel('x')\n",
    "plt.ylabel('y')\n",
    "plt.show()"
   ]
  },
  {
   "cell_type": "markdown",
   "metadata": {},
   "source": [
    "### Numpy operations on entire arrays   <a name=\"sub10\">\n",
    "\n",
    "Once we start writing *large* modules we need to start thinking about how efficient our procedures are. In many areas of research, time of computation is a fundamental hurdle to increasing complexity. We will not cover optimisation in this course, but it is useful to start considering where we might use more efficient options in numerical computation. The standard Numpy library offers us multiple options which also helps to reduce the size of our code and, potentially, make it more readable!\n",
    "\n",
    "A nice example is provided by using arithmetic operators with Numpy. If we have 2 arrays, array1 and array2, created through:\n",
    "\n",
    "```python\n",
    "array1 = np.array([10,20,30,40,50], dtype=int)\n",
    "array2 = np.array([0,1,2,3,4], dtype=int)\n",
    "array3 = array1+array2\n",
    "```\n",
    "what might our answer look like? Lets run this code below and print to the screen"
   ]
  },
  {
   "cell_type": "code",
   "execution_count": 17,
   "metadata": {},
   "outputs": [
    {
     "name": "stdout",
     "output_type": "stream",
     "text": [
      "array3 =  [10 21 32 43 54]\n"
     ]
    }
   ],
   "source": [
    "import numpy as np\n",
    "\n",
    "array1 = np.array([10,20,30,40,50], dtype=int)\n",
    "array2 = np.array([0,1,2,3,4], dtype=int)\n",
    "array3 = array1+array2\n",
    "\n",
    "print(\"array3 = \", array3)"
   ]
  },
  {
   "cell_type": "markdown",
   "metadata": {},
   "source": [
    "## 6) Creating our own functions <a name=\"Part6\"></a>\n",
    "\n",
    "In the same way we have started to use functions included within the Numpy package, we can write our own functions to perform specific tasks. This might be a numerical operation, or string manipulation task. This brings us closer to modular software development. In the example below we define a function with the keyword **'def'** and then call the function to receive its output. For example:"
   ]
  },
  {
   "cell_type": "code",
   "execution_count": 18,
   "metadata": {
    "scrolled": true
   },
   "outputs": [
    {
     "name": "stdout",
     "output_type": "stream",
     "text": [
      "All work and no play makes Jack a dull boy\n"
     ]
    }
   ],
   "source": [
    "# Lets define a function called 'test'. This function will simply write a message to the screen.\n",
    "\n",
    "def test():\n",
    "    print(\"All work and no play makes Jack a dull boy\")\n",
    "    return\n",
    "\n",
    "# Call the function\n",
    "test()"
   ]
  },
  {
   "cell_type": "markdown",
   "metadata": {},
   "source": [
    "Let us understand a few important features used in defining the function:\n",
    "\n",
    " - The 'def' keyword defined a function by its name.\n",
    " - The parenthesis () can take a list of inputs that the function needs.\n",
    " - The function name and input list is terminated with a colon ':'.\n",
    " - The next line, thus internal workings of the function, is *idented* by 4 spaces.\n",
    " - A 'return' statement closes the function definition.\n",
    " "
   ]
  },
  {
   "cell_type": "code",
   "execution_count": null,
   "metadata": {},
   "outputs": [],
   "source": []
  }
 ],
 "metadata": {
  "kernelspec": {
   "display_name": "Python 3",
   "language": "python",
   "name": "python3"
  },
  "language_info": {
   "codemirror_mode": {
    "name": "ipython",
    "version": 3
   },
   "file_extension": ".py",
   "mimetype": "text/x-python",
   "name": "python",
   "nbconvert_exporter": "python",
   "pygments_lexer": "ipython3",
   "version": "3.9.0"
  }
 },
 "nbformat": 4,
 "nbformat_minor": 4
}
